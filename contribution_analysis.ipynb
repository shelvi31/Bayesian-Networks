{
 "cells": [
  {
   "cell_type": "code",
   "execution_count": 1,
   "metadata": {
    "scrolled": false
   },
   "outputs": [],
   "source": [
    "import requests\n",
    "import json\n",
    "test_url = \"http://knowledge-engine.easygov.co.in:1880/getInferenceGraphData?file_name=Test_weightage_InferenceGraph.json\"\n",
    "prod_url = \"http://knowledge-engine.easygov.co.in:1880/getInferenceGraphData?file_name=Demo%20Project_InferenceGraph.json\"\n",
    "response = requests.get(prod_url)\n",
    "res = json.loads(response.text)\n",
    "links = res['links']\n",
    "ILINES = res['ILINES']\n",
    "nodes = res['nodes']\n",
    "# keys = None\n",
    "# for node in nodes:\n",
    "#     if not keys:\n",
    "#         keys = list(node.keys())\n",
    "#     for key in keys:\n",
    "#         if key not in ['id', 'PTABLE', 'CPT']:\n",
    "#             node.pop(key)  \n",
    "t = set()\n",
    "for link in links:\n",
    "    t.add(link['target'])\n",
    "targets = list(t)\n",
    "source = list()\n",
    "all_links = []\n",
    "data = dict()\n",
    "for target in targets:\n",
    "    for link in links:\n",
    "        if target == link['target']:\n",
    "            source.append(link['source'])\n",
    "    data.update({target:list(set(source))})\n",
    "    all_links.append(data)\n",
    "    data = dict()\n",
    "    source = list()\n",
    "percentage_contribution = dict()\n",
    "for target in targets:\n",
    "    pcs = list()\n",
    "    ratios = list()\n",
    "    percentages = list(range(1))\n",
    "    low_value = \"\"\n",
    "    for node in nodes:\n",
    "        if node['id']==target:\n",
    "            PTABLE = node['PTABLE']\n",
    "            CPT = node['CPT']\n",
    "            table = list()\n",
    "            for tab in PTABLE:\n",
    "                table.append(tab[\"data\"])\n",
    "            total= 0\n",
    "            for row in CPT:\n",
    "                total += float(row[0])\n",
    "            parent_nodes = None\n",
    "            for link in all_links:\n",
    "                t = list(link.keys())[0]\n",
    "                if t.lower()==target.lower():\n",
    "                    parent_nodes = link[target]\n",
    "            if parent_nodes:\n",
    "                l = len(parent_nodes)\n",
    "                for i in range(l):\n",
    "                    low_value = PTABLE[0][\"data\"][i].lower()\n",
    "                    factual_contri = 0\n",
    "                    for row in table:\n",
    "                        factual_contri += float(row[l]) if row[i].lower() == low_value else 0\n",
    "                    proportional_contribution = abs(2*factual_contri - total)/total\n",
    "                    pcs.append(proportional_contribution)\n",
    "                ratios = [pc/pcs[0] for pc in pcs]\n",
    "                percentages[0] = 100/sum(ratios)\n",
    "                percentages = [round(percentages[0]*r, 2) for r in ratios]\n",
    "                data = dict()\n",
    "                for i in range(l):\n",
    "                    data.update({f\"{parent_nodes[i]}[{low_value}]\":percentages[i]})\n",
    "                percentage_contribution.update({target:data})\n",
    "# Data in Json Format              \n",
    "percentage_contribution_json = json.dumps(percentage_contribution)"
   ]
  },
  {
   "cell_type": "code",
   "execution_count": 3,
   "metadata": {
    "scrolled": true
   },
   "outputs": [
    {
     "data": {
      "text/plain": [
       "'{\"1to5\": {\"1to5SchoolType[madarsa]\": 45.2, \"PrimaryMerit[madarsa]\": 2.02, \"No1to5[madarsa]\": 52.79}, \"FamilyInfo\": {\"FamilyComposition[low]\": 67.62, \"HealthDependents[low]\": 29.72, \"SocialProfile[low]\": 2.65}, \"AdolescentGirlNutrition\": {\"AdolescentGirls[low]\": 45.49, \"FoodBenefit[low]\": 54.51}, \"AdvancedAmenities\": {\"CookingFacility[none]\": 62.61, \"WasteWaterOutlet[none]\": 37.39}, \"Primary\": {\"1to5[low]\": 9.56, \"6to8[low]\": 90.44}, \"Taxable\": {\"Taxable_FamilyIncome[low]\": 57.93, \"TaxSlab[low]\": 42.07}, \"HouseConstruction\": {\"HouseBenefit[none]\": 16.68, \"HouseValue[none]\": 83.32}, \"MedicalDevices\": {\"HealthBenefit[low]\": 40.49, \"Disability[low]\": 59.51}, \"LoanOrGrant\": {\"Graduation[low]\": 22.82, \"EducationBenefit[low]\": 18.24, \"EconomicProfile[low]\": 58.94}, \"NonAgriLand\": {\"ResidentialProperty[low]\": 35.71, \"CulturableWasteLand[low]\": 41.56, \"CommercialProperty[low]\": 22.73}, \"UnskilledWork\": {\"OccupationBenefit[adhoc]\": 43.53, \"IncomeType_NonTaxable[adhoc]\": 27.98, \"EarningMembersNo[adhoc]\": 28.49}, \"FreeCoaching\": {\"EducationBenefit[low]\": 40.4, \"Competitive[low]\": 59.6}, \"9to12\": {\"SecondaryMerit[madarsa]\": 3.05, \"No9to12[madarsa]\": 46.16, \"9to12SchoolType[madarsa]\": 50.79}, \"NonTaxable\": {\"EarningMembersNo[low]\": 75.0, \"EarningNonTaxable[low]\": 25.0}, \"EarningNonTaxable\": {\"RegisteredWorker[no]\": 53.8, \"NonTaxable_IncomeAmount[no]\": 27.49, \"IncomeType_NonTaxable[no]\": 18.71}, \"FoodNutritionAssistance\": {\"FoodBenefit[yes]\": 100.0}, \"HostelFacility\": {\"StudyingOutofHometown[yes]\": 13.58, \"EducationBenefit[yes]\": 35.35, \"EconomicProfile[yes]\": 51.07}, \"Insurance\": {\"Health[yes]\": 50.0, \"Life[yes]\": 50.0}, \"EducationProfile\": {\"CollegeGoing[low]\": 47.19, \"SchoolGoing[low]\": 52.81}, \"OccupationBenefit\": {\"EconomicProfile[low]\": 18.75, \"FamilyProfile[low]\": 81.25}, \"CasteProfile\": {\"Caste[yes]\": 59.39, \"PrimitiveTribal[yes]\": 40.61}, \"MedicalMonetaryAssistance\": {\"HealthBenefit[low]\": 65.17, \"EconomicProfile[low]\": 34.83}, \"HouseElectrification\": {\"HouseBenefit[absent]\": 62.56, \"LightSource[absent]\": 37.44}, \"HouseRepair\": {\"WasteWaterOutlet[disapidated]\": 52.0, \"HouseBenefit[disapidated]\": 44.04, \"HouseType[disapidated]\": 3.96}, \"SkillTraining\": {\"OccupationBenefit[no]\": 75.63, \"RegisteredWorker[no]\": 14.72, \"IncomeType_NonTaxable[no]\": 9.64}, \"SpecialNeed\": {\"SpecialNeedsSuffering[low]\": 55.62, \"NoPatients[low]\": 44.38}, \"PostGraduation\": {\"PostGrad_CourseType[professional]\": 60.0, \"MeritPostGrad[professional]\": 40.0, \"NoPostGrad[professional]\": 0.0}, \"FinancialServicesProfile\": {\"Banking[low]\": 43.75, \"Investments[low]\": 46.87, \"Others[low]\": 9.38}, \"HealthDependents\": {\"SpecialNeed[low]\": 43.32, \"SrCitizens[low]\": 19.66, \"Below5[low]\": 37.02}, \"Secondary\": {\"9to12[low]\": 50.0, \"Competitive[low]\": 50.0}, \"MedicalServices\": {\"HealthBenefit[yes]\": 100.0}, \"LabourProfile\": {\"BondedLabour[yes]\": 50.75, \"ManualScavenger[yes]\": 49.25}, \"FamilyComposition\": {\"Females[low]\": 12.24, \"AdolescentGirls[low]\": 4.08, \"Size[low]\": 65.31, \"EarningMembersNo[low]\": 18.37}, \"FoodBenefit\": {\"EconomicProfile[low]\": 12.03, \"FamilyProfile[low]\": 87.97}, \"MovableAssets\": {\"OtherAssets[low]\": 36.85, \"HouseAssets[low]\": 36.85, \"FarmAssets[low]\": 26.31}, \"FoodAndUtilities\": {\"CookingFacility[yes]\": 10.42, \"HouseBenefit[yes]\": 89.58}, \"HealthBenefit\": {\"HealthProfile[low]\": 8.22, \"EconomicProfile[low]\": 63.01, \"FamilyProfile[low]\": 28.77}, \"Below5\": {\"No.OfBelow5[no]\": 70.41, \"AanganwadiAccess[no]\": 29.59}, \"EconomicProfile\": {\"IncomeProfile[low]\": 46.57, \"AssetsProfile[low]\": 29.95, \"FinancialServicesProfile[low]\": 23.48}, \"PregnantLactatingMotherAssistance\": {\"Pregnancy[yes]\": 45.5, \"FoodBenefit[yes]\": 54.5}, \"Scholarship/MeritAwards\": {\"EducationBenefit[low]\": 50.0, \"EconomicProfile[low]\": 50.0}, \"SpecialNeedsSuffering\": {\"Pregnancy[low]\": 29.73, \"Disability[low]\": 35.14, \"Chronic[low]\": 35.14}, \"HealthProfile\": {\"HealthDependents[low]\": 100.0}, \"FamilyProfile\": {\"FamilyInfo[low]\": 78.09, \"SocialProfile[low]\": 21.91}, \"Graduation\": {\"GradCourseType[professional]\": 71.43, \"MeritGrad[professional]\": 23.81, \"NoGrad[professional]\": 4.76}, \"Stipend\": {\"PostGraduation[low]\": 39.95, \"EducationBenefit[low]\": 60.05}, \"SocialProfile\": {\"LabourProfile[low]\": 55.1, \"CasteProfile[low]\": 44.9}, \"FixedAssets\": {\"AgriLand[low]\": 55.62, \"NonAgriLand[low]\": 44.38}, \"MotherChildHealthcare\": {\"Pregnancy[low]\": 41.48, \"HealthBenefit[low]\": 34.35, \"Below5[low]\": 24.17}, \"HealthInsurance\": {\"HealthBenefit[low]\": 24.95, \"Insurance[low]\": 75.05}, \"ToiletConstruction\": {\"ToiletFacility[yes]\": 14.93, \"HouseBenefit[yes]\": 85.07}, \"AmenitiesProfile\": {\"AdvancedAmenities[low]\": 50.0, \"BasicAmenities[low]\": 50.0}, \"Others\": {\"Remittances[low]\": 50.0, \"Insurance[low]\": 50.0}, \"SRCitizensSuffering\": {\"ChronicSRCitizens[low]\": 55.62, \"DrugOrTreatment[low]\": 44.38}, \"Banking\": {\"CreditCardLimit[yes]\": 85.35, \"BankAccount[yes]\": 14.65}, \"MonetaryAssitanceOccupation\": {\"OccupationBenefit[adhoc]\": 33.31, \"IncomeType_NonTaxable[adhoc]\": 66.69}, \"ResidenceProfile\": {\"HouseValue[low]\": 17.62, \"AmenitiesProfile[low]\": 69.65, \"HouseType[low]\": 12.73}, \"SrCitizens\": {\"No.OfSRCitizens[low]\": 55.1, \"SRCitizensSuffering[low]\": 44.9}, \"EducationBenefit\": {\"FamilyProfile[low]\": 1.2, \"EconomicProfile[low]\": 52.41, \"EducationProfile[low]\": 46.39}, \"6to8\": {\"6to8Merit[low]\": 43.9, \"No6to8[low]\": 54.1, \"6to8SchoolType[low]\": 2.0}, \"CollegeGoing\": {\"Graduation[low]\": 50.0, \"PostGraduation[low]\": 50.0}, \"SchoolGoing\": {\"Primary[low]\": 50.0, \"Secondary[low]\": 50.0}, \"BasicAmenities\": {\"DrinkingWater[yes]\": 53.22, \"ToiletFacility[yes]\": 17.9, \"LightSource[yes]\": 28.88}, \"IncomeProfile\": {\"NonTaxable[low]\": 85.71, \"Taxable[low]\": 14.29}, \"HouseBenefit\": {\"ResidenceProfile[low]\": 38.76, \"EconomicProfile[low]\": 61.24}, \"Competitive\": {\"Mode[low]\": 58.38, \"NoPreparing[low]\": 41.62}, \"AssetsProfile\": {\"ResidenceProfile[low]\": 33.88, \"FixedAssets[low]\": 49.57, \"MovableAssets[low]\": 16.56}, \"UnemploymentAllowance\": {\"OccupationBenefit[low]\": 44.37, \"EarningMembersNo[low]\": 55.63}}'"
      ]
     },
     "execution_count": 3,
     "metadata": {},
     "output_type": "execute_result"
    }
   ],
   "source": [
    "percentage_contribution_json"
   ]
  },
  {
   "cell_type": "code",
   "execution_count": null,
   "metadata": {},
   "outputs": [],
   "source": [
    "\n"
   ]
  },
  {
   "cell_type": "code",
   "execution_count": null,
   "metadata": {},
   "outputs": [],
   "source": [
    "        "
   ]
  },
  {
   "cell_type": "code",
   "execution_count": null,
   "metadata": {},
   "outputs": [],
   "source": []
  },
  {
   "cell_type": "code",
   "execution_count": null,
   "metadata": {},
   "outputs": [],
   "source": []
  },
  {
   "cell_type": "code",
   "execution_count": null,
   "metadata": {},
   "outputs": [],
   "source": [
    "\n",
    "        "
   ]
  },
  {
   "cell_type": "code",
   "execution_count": null,
   "metadata": {},
   "outputs": [],
   "source": []
  },
  {
   "cell_type": "code",
   "execution_count": null,
   "metadata": {},
   "outputs": [],
   "source": [
    "\n"
   ]
  },
  {
   "cell_type": "code",
   "execution_count": null,
   "metadata": {},
   "outputs": [],
   "source": []
  },
  {
   "cell_type": "code",
   "execution_count": null,
   "metadata": {},
   "outputs": [],
   "source": []
  },
  {
   "cell_type": "code",
   "execution_count": null,
   "metadata": {},
   "outputs": [],
   "source": []
  },
  {
   "cell_type": "code",
   "execution_count": null,
   "metadata": {},
   "outputs": [],
   "source": [
    "\n"
   ]
  },
  {
   "cell_type": "code",
   "execution_count": null,
   "metadata": {},
   "outputs": [],
   "source": []
  },
  {
   "cell_type": "code",
   "execution_count": null,
   "metadata": {
    "scrolled": true
   },
   "outputs": [],
   "source": []
  },
  {
   "cell_type": "code",
   "execution_count": null,
   "metadata": {},
   "outputs": [],
   "source": []
  },
  {
   "cell_type": "code",
   "execution_count": null,
   "metadata": {},
   "outputs": [],
   "source": []
  }
 ],
 "metadata": {
  "kernelspec": {
   "display_name": "Python 3",
   "language": "python",
   "name": "python3"
  },
  "language_info": {
   "codemirror_mode": {
    "name": "ipython",
    "version": 3
   },
   "file_extension": ".py",
   "mimetype": "text/x-python",
   "name": "python",
   "nbconvert_exporter": "python",
   "pygments_lexer": "ipython3",
   "version": "3.8.1"
  }
 },
 "nbformat": 4,
 "nbformat_minor": 4
}

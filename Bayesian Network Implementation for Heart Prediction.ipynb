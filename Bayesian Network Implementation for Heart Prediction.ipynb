{
 "cells": [
  {
   "cell_type": "markdown",
   "id": "distributed-stations",
   "metadata": {},
   "source": [
    "### TASK"
   ]
  },
  {
   "cell_type": "markdown",
   "id": "gorgeous-currency",
   "metadata": {},
   "source": [
    "A Bayesian network (also known as a Bayes network, belief network, or decision network) is a probabilistic graphical model that represents a set of variables and their conditional dependencies via a directed acyclic graph (DAG).\n",
    "\n",
    "They can be used for a wide range of tasks including prediction, anomaly detection, diagnostics, automated insight, reasoning, time series prediction and decision making under uncertainty.\n",
    "\n",
    "We will write a program to construct a Bayesian Network considering medical data. We will use this program to do dignosis of heart patient dataset.\n",
    "\n",
    "To implement Bayesian Network we will be using PGMPY(Probabilstic Graphical Models)."
   ]
  },
  {
   "cell_type": "markdown",
   "id": "boxed-hughes",
   "metadata": {},
   "source": [
    "###  Dataset acknowledgements"
   ]
  },
  {
   "cell_type": "markdown",
   "id": "aware-enzyme",
   "metadata": {},
   "source": [
    "We will be using UCI Heart Disease Data Set : Processed Cleveland Data. \n",
    "\n",
    "The UCI Machine Learning Repository is a collection of databases, domain theories, and data generators that are used by the machine learning community.\n",
    "\n",
    "The dataset consists of 303 individuals data. There are 14 columns in the dataset, which are described below. The last attribute is the predicted attribute."
   ]
  },
  {
   "cell_type": "markdown",
   "id": "unexpected-merit",
   "metadata": {},
   "source": [
    "### Description of Dataset Columns:"
   ]
  },
  {
   "cell_type": "markdown",
   "id": "heated-korean",
   "metadata": {},
   "source": [
    "1. Age: The age of the individual.It is the most important risk factor in developing cardiovascular diseases.The risk of stroke doubles every decade after age 55.\n",
    "\n",
    "\n",
    "2. Sex: The gender of the individual.Men are at greater risk of heart disease than pre-menopausal women.Format for same:\n",
    "    1 = male\n",
    "    0 = female\n",
    "\n",
    "\n",
    "3. Chest-pain type: The type of chest-pain experienced by the individual.Angina is chest pain or discomfort caused when your heart muscle doesn’t get enough oxygen-rich blood.Format :\n",
    "    1 = typical angina\n",
    "    2 = atypical angina\n",
    "    3 = non — anginal pain\n",
    "    4 = asymptotic\n",
    "    \n",
    "    \n",
    "4. Resting Blood Pressure: The resting blood pressure value of an individual in mmHg (unit).Over time, high blood pressure can damage arteries that feed your heart.\n",
    "\n",
    "\n",
    "5. Serum Cholestrol: displays the serum cholesterol in mg/dl (unit)\n",
    "A high level of low-density lipoprotein (LDL) cholesterol also called the bad cholesterol is most likely to narrow arteries. However, a high level of high-density lipoprotein (HDL) cholesterol (the “good” cholesterol) lowers your risk of a heart attack.\n",
    "\n",
    "\n",
    "6. Fasting Blood Sugar: It compares the fasting blood sugar value of an individual.Not responding to insulin properly causes your body’s blood sugar levels to rise, increasing your risk of a heart attack.\n",
    "If fasting blood sugar > 120mg/dl then : 1 (true)\n",
    "else : 0 (false)\n",
    "\n",
    "7. Resting ECG: Displays resting electrocardiographic results.\n",
    "0 = normal\n",
    "1 = having ST-T wave abnormality\n",
    "2 = left ventricular hyperthrophy\n",
    "\n",
    "\n",
    "8. Max heart rate achieved: displays the max heart rate achieved by an individual.\n",
    "It has been shown that an increase in heart rate by 10 beats per minute was associated with an increase in the risk of cardiac death by at least 20%\n",
    "\n",
    "\n",
    "9. Exercise induced angina: The pain or discomfort associated with angina usually feels tight, gripping or squeezing, and can vary from mild to severe.\n",
    "1 = yes\n",
    "0 = no\n",
    "\n",
    "\n",
    "10. ST depression induced by exercise relative to rest: displays the value which is an integer or float.\n",
    "\n",
    "\n",
    "11. Peak exercise ST segment :\n",
    "    1 = upsloping\n",
    "    2 = flat\n",
    "    3 = downsloping\n",
    "    \n",
    "    \n",
    "12. Number of major vessels(0–3) colored by flourosopy: Displays the value as integer or float.\n",
    "\n",
    "\n",
    "13. Thal: Displays the thalassemia:\n",
    "    3 = normal\n",
    "    6 = fixed defect\n",
    "    7 = reversible defect\n",
    "    \n",
    "    \n",
    "14. Diagnosis of heart disease: Displays whether the individual is suffering from heart disease or not :\n",
    "It is integer valued from 0 (no presence) to 4. Presence (values 1,2,3,4) from absence (value 0)."
   ]
  },
  {
   "cell_type": "markdown",
   "id": "similar-attraction",
   "metadata": {},
   "source": [
    "#### Requirements "
   ]
  },
  {
   "cell_type": "markdown",
   "id": "coastal-orientation",
   "metadata": {},
   "source": [
    "- python 3.6 or higher\n",
    "- pandas\n",
    "- pgmpy\n",
    "networkX\n",
    "scipy\n",
    "numpy\n",
    "pytorch"
   ]
  },
  {
   "cell_type": "markdown",
   "id": "checked-password",
   "metadata": {},
   "source": [
    "### PGMPY:Probabilistic Graphical Models "
   ]
  },
  {
   "cell_type": "markdown",
   "id": "round-associate",
   "metadata": {},
   "source": [
    "Probabilistic Graphical Models(PGM) are a very solid way of representing joint probability distributions on a set of random variables. It allows users to do inferences in a computationally efficient way.We can calculate the joint probability distribution of these variables by combining various parameters taken from the graph.\n",
    "\n",
    "Mainly, there are two types of Graph models:\n",
    "\n",
    "Baysian Graph Models :  These models consist of Directed-Cyclic Graph(DAG) and there is always a conditional probability associated with the random variables. These types of models represent a causation between the random variables.\n",
    "\n",
    "Markov Graph Models :  These models are undirected graphs and represent non causal relationships between the random variables.\n",
    "pgmpy is a python framework to work with these types of graph models. Several graph models and inference algorithms are implemented in pgmpy. Pgmpy  also allows users to create their own inference algorithm without getting into the details of the source code of it. \n",
    "\n",
    "Let’s get started with the implementation part."
   ]
  },
  {
   "cell_type": "markdown",
   "id": "genetic-addiction",
   "metadata": {},
   "source": [
    "#### Installing PGMPY"
   ]
  },
  {
   "cell_type": "code",
   "execution_count": 1,
   "id": "cooked-hundred",
   "metadata": {},
   "outputs": [
    {
     "name": "stdout",
     "output_type": "stream",
     "text": [
      "Requirement already satisfied: pgmpy in c:\\python39\\lib\\site-packages (0.1.14)\n",
      "Requirement already satisfied: pandas in c:\\python39\\lib\\site-packages (from pgmpy) (1.2.2)\n",
      "Requirement already satisfied: statsmodels in c:\\python39\\lib\\site-packages (from pgmpy) (0.12.2)\n",
      "Requirement already satisfied: tqdm in c:\\python39\\lib\\site-packages (from pgmpy) (4.56.0)\n",
      "Requirement already satisfied: networkx in c:\\python39\\lib\\site-packages (from pgmpy) (2.5.1)\n",
      "Requirement already satisfied: torch in c:\\python39\\lib\\site-packages (from pgmpy) (1.8.1)\n",
      "Requirement already satisfied: pyparsing in c:\\python39\\lib\\site-packages (from pgmpy) (2.4.7)\n",
      "Requirement already satisfied: scipy in c:\\python39\\lib\\site-packages (from pgmpy) (1.6.0)\n",
      "Requirement already satisfied: scikit-learn in c:\\python39\\lib\\site-packages (from pgmpy) (0.24.1)\n",
      "Requirement already satisfied: numpy in c:\\python39\\lib\\site-packages (from pgmpy) (1.19.5)"
     ]
    },
    {
     "name": "stderr",
     "output_type": "stream",
     "text": [
      "WARNING: You are using pip version 21.0.1; however, version 21.1.1 is available.\n",
      "You should consider upgrading via the 'c:\\python39\\python.exe -m pip install --upgrade pip' command.\n"
     ]
    },
    {
     "name": "stdout",
     "output_type": "stream",
     "text": [
      "\n",
      "Requirement already satisfied: joblib in c:\\python39\\lib\\site-packages (from pgmpy) (1.0.0)\n",
      "Requirement already satisfied: decorator<5,>=4.3 in c:\\python39\\lib\\site-packages (from networkx->pgmpy) (4.4.2)\n",
      "Requirement already satisfied: python-dateutil>=2.7.3 in c:\\python39\\lib\\site-packages (from pandas->pgmpy) (2.7.5)\n",
      "Requirement already satisfied: pytz>=2017.3 in c:\\python39\\lib\\site-packages (from pandas->pgmpy) (2021.1)\n",
      "Requirement already satisfied: six>=1.5 in c:\\python39\\lib\\site-packages (from python-dateutil>=2.7.3->pandas->pgmpy) (1.15.0)\n",
      "Requirement already satisfied: threadpoolctl>=2.0.0 in c:\\python39\\lib\\site-packages (from scikit-learn->pgmpy) (2.1.0)\n",
      "Requirement already satisfied: patsy>=0.5 in c:\\python39\\lib\\site-packages (from statsmodels->pgmpy) (0.5.1)\n",
      "Requirement already satisfied: typing-extensions in c:\\python39\\lib\\site-packages (from torch->pgmpy) (3.7.4.3)\n"
     ]
    }
   ],
   "source": [
    "!pip install pgmpy;\n",
    "\n",
    "# import warnings filter\n",
    "from warnings import simplefilter\n",
    "simplefilter(action='ignore', category = FutureWarning)"
   ]
  },
  {
   "cell_type": "markdown",
   "id": "monetary-digit",
   "metadata": {},
   "source": [
    "Make sure to add an exclamation mark, so that this command doesnt run in jupyetr-notebook but externally for your system."
   ]
  },
  {
   "cell_type": "code",
   "execution_count": 2,
   "id": "advisory-lighting",
   "metadata": {},
   "outputs": [],
   "source": [
    "import pandas as pd"
   ]
  },
  {
   "cell_type": "markdown",
   "id": "exact-earthquake",
   "metadata": {},
   "source": [
    "We will be importing our dataset directly from UCI Website. Hence we need to import urllib."
   ]
  },
  {
   "cell_type": "code",
   "execution_count": 3,
   "id": "urban-simon",
   "metadata": {},
   "outputs": [],
   "source": [
    "from urllib.request import urlopen\n",
    "#data = pd.read_csv(urlopen(\"http://bit.do/heart-disease\"))"
   ]
  },
  {
   "cell_type": "code",
   "execution_count": 4,
   "id": "center-gross",
   "metadata": {},
   "outputs": [],
   "source": [
    "from pgmpy.models import BayesianModel"
   ]
  },
  {
   "cell_type": "markdown",
   "id": "acute-cement",
   "metadata": {},
   "source": [
    "#### Getting the data"
   ]
  },
  {
   "cell_type": "code",
   "execution_count": 5,
   "id": "suited-benjamin",
   "metadata": {},
   "outputs": [
    {
     "data": {
      "text/html": [
       "<div>\n",
       "<style scoped>\n",
       "    .dataframe tbody tr th:only-of-type {\n",
       "        vertical-align: middle;\n",
       "    }\n",
       "\n",
       "    .dataframe tbody tr th {\n",
       "        vertical-align: top;\n",
       "    }\n",
       "\n",
       "    .dataframe thead th {\n",
       "        text-align: right;\n",
       "    }\n",
       "</style>\n",
       "<table border=\"1\" class=\"dataframe\">\n",
       "  <thead>\n",
       "    <tr style=\"text-align: right;\">\n",
       "      <th></th>\n",
       "      <th>63.0</th>\n",
       "      <th>1.0</th>\n",
       "      <th>1.0.1</th>\n",
       "      <th>145.0</th>\n",
       "      <th>233.0</th>\n",
       "      <th>1.0.2</th>\n",
       "      <th>2.0</th>\n",
       "      <th>150.0</th>\n",
       "      <th>0.0</th>\n",
       "      <th>2.3</th>\n",
       "      <th>3.0</th>\n",
       "      <th>0.0.1</th>\n",
       "      <th>6.0</th>\n",
       "      <th>0</th>\n",
       "    </tr>\n",
       "  </thead>\n",
       "  <tbody>\n",
       "    <tr>\n",
       "      <th>0</th>\n",
       "      <td>67.0</td>\n",
       "      <td>1.0</td>\n",
       "      <td>4.0</td>\n",
       "      <td>160.0</td>\n",
       "      <td>286.0</td>\n",
       "      <td>0.0</td>\n",
       "      <td>2.0</td>\n",
       "      <td>108.0</td>\n",
       "      <td>1.0</td>\n",
       "      <td>1.5</td>\n",
       "      <td>2.0</td>\n",
       "      <td>3.0</td>\n",
       "      <td>3.0</td>\n",
       "      <td>2</td>\n",
       "    </tr>\n",
       "    <tr>\n",
       "      <th>1</th>\n",
       "      <td>67.0</td>\n",
       "      <td>1.0</td>\n",
       "      <td>4.0</td>\n",
       "      <td>120.0</td>\n",
       "      <td>229.0</td>\n",
       "      <td>0.0</td>\n",
       "      <td>2.0</td>\n",
       "      <td>129.0</td>\n",
       "      <td>1.0</td>\n",
       "      <td>2.6</td>\n",
       "      <td>2.0</td>\n",
       "      <td>2.0</td>\n",
       "      <td>7.0</td>\n",
       "      <td>1</td>\n",
       "    </tr>\n",
       "    <tr>\n",
       "      <th>2</th>\n",
       "      <td>37.0</td>\n",
       "      <td>1.0</td>\n",
       "      <td>3.0</td>\n",
       "      <td>130.0</td>\n",
       "      <td>250.0</td>\n",
       "      <td>0.0</td>\n",
       "      <td>0.0</td>\n",
       "      <td>187.0</td>\n",
       "      <td>0.0</td>\n",
       "      <td>3.5</td>\n",
       "      <td>3.0</td>\n",
       "      <td>0.0</td>\n",
       "      <td>3.0</td>\n",
       "      <td>0</td>\n",
       "    </tr>\n",
       "    <tr>\n",
       "      <th>3</th>\n",
       "      <td>41.0</td>\n",
       "      <td>0.0</td>\n",
       "      <td>2.0</td>\n",
       "      <td>130.0</td>\n",
       "      <td>204.0</td>\n",
       "      <td>0.0</td>\n",
       "      <td>2.0</td>\n",
       "      <td>172.0</td>\n",
       "      <td>0.0</td>\n",
       "      <td>1.4</td>\n",
       "      <td>1.0</td>\n",
       "      <td>0.0</td>\n",
       "      <td>3.0</td>\n",
       "      <td>0</td>\n",
       "    </tr>\n",
       "    <tr>\n",
       "      <th>4</th>\n",
       "      <td>56.0</td>\n",
       "      <td>1.0</td>\n",
       "      <td>2.0</td>\n",
       "      <td>120.0</td>\n",
       "      <td>236.0</td>\n",
       "      <td>0.0</td>\n",
       "      <td>0.0</td>\n",
       "      <td>178.0</td>\n",
       "      <td>0.0</td>\n",
       "      <td>0.8</td>\n",
       "      <td>1.0</td>\n",
       "      <td>0.0</td>\n",
       "      <td>3.0</td>\n",
       "      <td>0</td>\n",
       "    </tr>\n",
       "  </tbody>\n",
       "</table>\n",
       "</div>"
      ],
      "text/plain": [
       "   63.0  1.0  1.0.1  145.0  233.0  1.0.2  2.0  150.0  0.0  2.3  3.0 0.0.1  \\\n",
       "0  67.0  1.0    4.0  160.0  286.0    0.0  2.0  108.0  1.0  1.5  2.0   3.0   \n",
       "1  67.0  1.0    4.0  120.0  229.0    0.0  2.0  129.0  1.0  2.6  2.0   2.0   \n",
       "2  37.0  1.0    3.0  130.0  250.0    0.0  0.0  187.0  0.0  3.5  3.0   0.0   \n",
       "3  41.0  0.0    2.0  130.0  204.0    0.0  2.0  172.0  0.0  1.4  1.0   0.0   \n",
       "4  56.0  1.0    2.0  120.0  236.0    0.0  0.0  178.0  0.0  0.8  1.0   0.0   \n",
       "\n",
       "   6.0  0  \n",
       "0  3.0  2  \n",
       "1  7.0  1  \n",
       "2  3.0  0  \n",
       "3  3.0  0  \n",
       "4  3.0  0  "
      ]
     },
     "execution_count": 5,
     "metadata": {},
     "output_type": "execute_result"
    }
   ],
   "source": [
    "#Or directly getting data from saved file:\n",
    "    \n",
    "data = pd.read_csv(\"cleveland heart data.txt\")\n",
    "\n",
    "data.head()"
   ]
  },
  {
   "cell_type": "markdown",
   "id": "eastern-twelve",
   "metadata": {},
   "source": [
    "#### Working with column names"
   ]
  },
  {
   "cell_type": "markdown",
   "id": "surprising-portable",
   "metadata": {},
   "source": [
    "As you can see we need to rework here with the column names.For now, let's give the alphabetical letters to these columns"
   ]
  },
  {
   "cell_type": "code",
   "execution_count": 6,
   "id": "necessary-truth",
   "metadata": {},
   "outputs": [
    {
     "data": {
      "text/html": [
       "<div>\n",
       "<style scoped>\n",
       "    .dataframe tbody tr th:only-of-type {\n",
       "        vertical-align: middle;\n",
       "    }\n",
       "\n",
       "    .dataframe tbody tr th {\n",
       "        vertical-align: top;\n",
       "    }\n",
       "\n",
       "    .dataframe thead th {\n",
       "        text-align: right;\n",
       "    }\n",
       "</style>\n",
       "<table border=\"1\" class=\"dataframe\">\n",
       "  <thead>\n",
       "    <tr style=\"text-align: right;\">\n",
       "      <th></th>\n",
       "      <th>Age</th>\n",
       "      <th>Sex</th>\n",
       "      <th>Angina_(Chest_Pain)</th>\n",
       "      <th>Resting_BP</th>\n",
       "      <th>Serum Cholesterol</th>\n",
       "      <th>Fasting_Sugar</th>\n",
       "      <th>Resting_ECG</th>\n",
       "      <th>Max_Heart_Rate</th>\n",
       "      <th>Excercise_Induced_Angina</th>\n",
       "      <th>Exercise_induces_ST</th>\n",
       "      <th>ST_Segment</th>\n",
       "      <th>Vessels</th>\n",
       "      <th>Thalassemia</th>\n",
       "      <th>Heart_Diagnosis</th>\n",
       "    </tr>\n",
       "  </thead>\n",
       "  <tbody>\n",
       "    <tr>\n",
       "      <th>0</th>\n",
       "      <td>63.0</td>\n",
       "      <td>1.0</td>\n",
       "      <td>1.0</td>\n",
       "      <td>145.0</td>\n",
       "      <td>233.0</td>\n",
       "      <td>1.0</td>\n",
       "      <td>2.0</td>\n",
       "      <td>150.0</td>\n",
       "      <td>0.0</td>\n",
       "      <td>2.3</td>\n",
       "      <td>3.0</td>\n",
       "      <td>0.0</td>\n",
       "      <td>6.0</td>\n",
       "      <td>0</td>\n",
       "    </tr>\n",
       "    <tr>\n",
       "      <th>1</th>\n",
       "      <td>67.0</td>\n",
       "      <td>1.0</td>\n",
       "      <td>4.0</td>\n",
       "      <td>160.0</td>\n",
       "      <td>286.0</td>\n",
       "      <td>0.0</td>\n",
       "      <td>2.0</td>\n",
       "      <td>108.0</td>\n",
       "      <td>1.0</td>\n",
       "      <td>1.5</td>\n",
       "      <td>2.0</td>\n",
       "      <td>3.0</td>\n",
       "      <td>3.0</td>\n",
       "      <td>2</td>\n",
       "    </tr>\n",
       "    <tr>\n",
       "      <th>2</th>\n",
       "      <td>67.0</td>\n",
       "      <td>1.0</td>\n",
       "      <td>4.0</td>\n",
       "      <td>120.0</td>\n",
       "      <td>229.0</td>\n",
       "      <td>0.0</td>\n",
       "      <td>2.0</td>\n",
       "      <td>129.0</td>\n",
       "      <td>1.0</td>\n",
       "      <td>2.6</td>\n",
       "      <td>2.0</td>\n",
       "      <td>2.0</td>\n",
       "      <td>7.0</td>\n",
       "      <td>1</td>\n",
       "    </tr>\n",
       "    <tr>\n",
       "      <th>3</th>\n",
       "      <td>37.0</td>\n",
       "      <td>1.0</td>\n",
       "      <td>3.0</td>\n",
       "      <td>130.0</td>\n",
       "      <td>250.0</td>\n",
       "      <td>0.0</td>\n",
       "      <td>0.0</td>\n",
       "      <td>187.0</td>\n",
       "      <td>0.0</td>\n",
       "      <td>3.5</td>\n",
       "      <td>3.0</td>\n",
       "      <td>0.0</td>\n",
       "      <td>3.0</td>\n",
       "      <td>0</td>\n",
       "    </tr>\n",
       "    <tr>\n",
       "      <th>4</th>\n",
       "      <td>41.0</td>\n",
       "      <td>0.0</td>\n",
       "      <td>2.0</td>\n",
       "      <td>130.0</td>\n",
       "      <td>204.0</td>\n",
       "      <td>0.0</td>\n",
       "      <td>2.0</td>\n",
       "      <td>172.0</td>\n",
       "      <td>0.0</td>\n",
       "      <td>1.4</td>\n",
       "      <td>1.0</td>\n",
       "      <td>0.0</td>\n",
       "      <td>3.0</td>\n",
       "      <td>0</td>\n",
       "    </tr>\n",
       "  </tbody>\n",
       "</table>\n",
       "</div>"
      ],
      "text/plain": [
       "    Age  Sex  Angina_(Chest_Pain)  Resting_BP  Serum Cholesterol  \\\n",
       "0  63.0  1.0                  1.0       145.0              233.0   \n",
       "1  67.0  1.0                  4.0       160.0              286.0   \n",
       "2  67.0  1.0                  4.0       120.0              229.0   \n",
       "3  37.0  1.0                  3.0       130.0              250.0   \n",
       "4  41.0  0.0                  2.0       130.0              204.0   \n",
       "\n",
       "   Fasting_Sugar  Resting_ECG  Max_Heart_Rate  Excercise_Induced_Angina  \\\n",
       "0            1.0          2.0           150.0                       0.0   \n",
       "1            0.0          2.0           108.0                       1.0   \n",
       "2            0.0          2.0           129.0                       1.0   \n",
       "3            0.0          0.0           187.0                       0.0   \n",
       "4            0.0          2.0           172.0                       0.0   \n",
       "\n",
       "   Exercise_induces_ST  ST_Segment Vessels Thalassemia  Heart_Diagnosis  \n",
       "0                  2.3         3.0     0.0         6.0                0  \n",
       "1                  1.5         2.0     3.0         3.0                2  \n",
       "2                  2.6         2.0     2.0         7.0                1  \n",
       "3                  3.5         3.0     0.0         3.0                0  \n",
       "4                  1.4         1.0     0.0         3.0                0  "
      ]
     },
     "execution_count": 6,
     "metadata": {},
     "output_type": "execute_result"
    }
   ],
   "source": [
    "names = \"Age,Sex,Angina_(Chest_Pain),Resting_BP,Serum Cholesterol,Fasting_Sugar,Resting_ECG,Max_Heart_Rate,Excercise_Induced_Angina,Exercise_induces_ST,ST_Segment,Vessels,Thalassemia,Heart_Diagnosis\"\n",
    "names = names.split(\",\")\n",
    "\n",
    "data = pd.read_csv(\"cleveland heart data.txt\",names=names)\n",
    "data.head()"
   ]
  },
  {
   "cell_type": "markdown",
   "id": "artificial-certification",
   "metadata": {},
   "source": [
    "Looks Much better! :)"
   ]
  },
  {
   "cell_type": "markdown",
   "id": "virtual-production",
   "metadata": {},
   "source": [
    "### Analysing The Data"
   ]
  },
  {
   "cell_type": "code",
   "execution_count": 7,
   "id": "tamil-chemistry",
   "metadata": {},
   "outputs": [],
   "source": [
    "import matplotlib.pyplot as plt\n",
    "import seaborn as sns"
   ]
  },
  {
   "cell_type": "markdown",
   "id": "residential-poetry",
   "metadata": {},
   "source": [
    "Lets see the distribution of age in our dataset with Distribution Plot"
   ]
  },
  {
   "cell_type": "code",
   "execution_count": 8,
   "id": "available-chick",
   "metadata": {},
   "outputs": [
    {
     "data": {
      "text/plain": [
       "<Figure size 1440x864 with 0 Axes>"
      ]
     },
     "metadata": {},
     "output_type": "display_data"
    },
    {
     "data": {
      "image/png": "[encoded data removed]",
      "text/plain": [
       "<Figure size 449.625x360 with 1 Axes>"
      ]
     },
     "metadata": {
      "needs_background": "light"
     },
     "output_type": "display_data"
    }
   ],
   "source": [
    "plt.figure(figsize=(20,12))\n",
    "sns.displot(data,x=\"Age\",hue=\"Heart_Diagnosis\",element = \"step\");\n",
    "plt.show()"
   ]
  },
  {
   "cell_type": "markdown",
   "id": "czech-horizon",
   "metadata": {},
   "source": [
    "As we can see most number of paatients lie in the age group above 50."
   ]
  },
  {
   "cell_type": "markdown",
   "id": "neural-builder",
   "metadata": {},
   "source": [
    "Histogram plot for distribution of cases on the basis of gender."
   ]
  },
  {
   "cell_type": "code",
   "execution_count": 9,
   "id": "asian-narrow",
   "metadata": {},
   "outputs": [
    {
     "data": {
      "text/plain": [
       "<AxesSubplot:xlabel='Age', ylabel='Count'>"
      ]
     },
     "execution_count": 9,
     "metadata": {},
     "output_type": "execute_result"
    },
    {
     "data": {
      "image/png": "[encoded data removed]",
      "text/plain": [
       "<Figure size 432x288 with 1 Axes>"
      ]
     },
     "metadata": {
      "needs_background": "light"
     },
     "output_type": "display_data"
    }
   ],
   "source": [
    "sns.histplot(data,x=\"Age\",hue=\"Sex\")"
   ]
  },
  {
   "cell_type": "code",
   "execution_count": 10,
   "id": "minute-toner",
   "metadata": {},
   "outputs": [
    {
     "data": {
      "text/plain": [
       "<AxesSubplot:ylabel='Count'>"
      ]
     },
     "execution_count": 10,
     "metadata": {},
     "output_type": "execute_result"
    },
    {
     "data": {
      "image/png": "[encoded data removed]",
      "text/plain": [
       "<Figure size 432x288 with 1 Axes>"
      ]
     },
     "metadata": {
      "needs_background": "light"
     },
     "output_type": "display_data"
    }
   ],
   "source": [
    "sns.histplot(data=data)"
   ]
  },
  {
   "cell_type": "markdown",
   "id": "japanese-allah",
   "metadata": {},
   "source": [
    "Heatmap helps us visualize matrix-like data in the form of hot and cold spots. The warm colors indicated sections with the most visitor interaction."
   ]
  },
  {
   "cell_type": "code",
   "execution_count": 11,
   "id": "continuing-minority",
   "metadata": {},
   "outputs": [
    {
     "data": {
      "image/png": "[encoded data removed]",
      "text/plain": [
       "<Figure size 864x504 with 2 Axes>"
      ]
     },
     "metadata": {
      "needs_background": "light"
     },
     "output_type": "display_data"
    }
   ],
   "source": [
    "plt.figure(figsize=(12,7));\n",
    "sns.heatmap(data.corr());\n",
    "\n",
    "# Rotate x-labels with the help of matplotlib\n",
    "plt.xticks(rotation=25);"
   ]
  },
  {
   "cell_type": "markdown",
   "id": "prostate-bleeding",
   "metadata": {},
   "source": [
    "lets see the relationship of heart rate and diagnosis in our result:"
   ]
  },
  {
   "cell_type": "code",
   "execution_count": 12,
   "id": "composite-butter",
   "metadata": {},
   "outputs": [
    {
     "data": {
      "text/plain": [
       "<AxesSubplot:xlabel='Max_Heart_Rate', ylabel='Count'>"
      ]
     },
     "execution_count": 12,
     "metadata": {},
     "output_type": "execute_result"
    },
    {
     "data": {
      "image/png": "[encoded data removed]",
      "text/plain": [
       "<Figure size 432x288 with 1 Axes>"
      ]
     },
     "metadata": {
      "needs_background": "light"
     },
     "output_type": "display_data"
    }
   ],
   "source": [
    "sns.histplot(data,x=\"Max_Heart_Rate\",hue=\"Heart_Diagnosis\")"
   ]
  },
  {
   "cell_type": "code",
   "execution_count": 13,
   "id": "sacred-understanding",
   "metadata": {},
   "outputs": [
    {
     "data": {
      "text/plain": [
       "<Figure size 864x504 with 0 Axes>"
      ]
     },
     "metadata": {},
     "output_type": "display_data"
    },
    {
     "data": {
      "image/png": "[encoded data removed]",
      "text/plain": [
       "<Figure size 449.625x360 with 1 Axes>"
      ]
     },
     "metadata": {
      "needs_background": "light"
     },
     "output_type": "display_data"
    }
   ],
   "source": [
    "plt.figure(figsize=(12,7));\n",
    "sns.lmplot(x=\"Age\",y=\"Max_Heart_Rate\", data=data,fit_reg = False,hue=\"Heart_Diagnosis\"); \n",
    "plt.xlim(0,85);"
   ]
  },
  {
   "cell_type": "markdown",
   "id": "endangered-atmosphere",
   "metadata": {},
   "source": [
    "From the above scatter graph we clearly see tht pour distribution majorly lies in the age of 55-65 for individuals identified with heart diagnosis. We can also see that the max heart rate pf people diagnosed positive has not been above 130 in most cases."
   ]
  },
  {
   "cell_type": "markdown",
   "id": "hundred-universal",
   "metadata": {},
   "source": [
    "#### PRE-PROCESSING OUR DATASET:"
   ]
  },
  {
   "cell_type": "markdown",
   "id": "constant-beginning",
   "metadata": {},
   "source": [
    "Checking for any null values:"
   ]
  },
  {
   "cell_type": "code",
   "execution_count": 14,
   "id": "demonstrated-outside",
   "metadata": {},
   "outputs": [
    {
     "data": {
      "text/plain": [
       "Age                         0\n",
       "Sex                         0\n",
       "Angina_(Chest_Pain)         0\n",
       "Resting_BP                  0\n",
       "Serum Cholesterol           0\n",
       "Fasting_Sugar               0\n",
       "Resting_ECG                 0\n",
       "Max_Heart_Rate              0\n",
       "Excercise_Induced_Angina    0\n",
       "Exercise_induces_ST         0\n",
       "ST_Segment                  0\n",
       "Vessels                     0\n",
       "Thalassemia                 0\n",
       "Heart_Diagnosis             0\n",
       "dtype: int64"
      ]
     },
     "execution_count": 14,
     "metadata": {},
     "output_type": "execute_result"
    }
   ],
   "source": [
    "data.isnull().sum()"
   ]
  },
  {
   "cell_type": "markdown",
   "id": "disciplinary-industry",
   "metadata": {},
   "source": [
    "There are no null values in our dataset. We have also got a basic idea of our data and analytics to proceed further."
   ]
  },
  {
   "cell_type": "markdown",
   "id": "about-planet",
   "metadata": {},
   "source": [
    "### Implementing the Bayesian Model:\n",
    "\n",
    "The columns names here are the parameters on which we are constructing our Bayesian Model. We will make connections between the different parameters to make a model."
   ]
  },
  {
   "cell_type": "code",
   "execution_count": null,
   "id": "collect-detective",
   "metadata": {},
   "outputs": [],
   "source": [
    "model = BayesianModel([(),(),()])"
   ]
  },
  {
   "cell_type": "markdown",
   "id": "bored-adapter",
   "metadata": {},
   "source": [
    "References:\n",
    "\n",
    "1. https://www.youtube.com/watch?v=sCqpWCYaL5U&t=16s\n",
    "2. https://www.bayesserver.com/docs/introduction/bayesian-networks\n",
    "3.https://analyticsindiamag.com/guide-to-pgmpy-probabilistic-graphical-models-with-python-code/\n",
    "4. https://pgmpy.org/\n",
    "5. https://towardsdatascience.com/heart-disease-prediction-73468d630cfc"
   ]
  },
  {
   "cell_type": "code",
   "execution_count": null,
   "id": "lesser-bankruptcy",
   "metadata": {},
   "outputs": [],
   "source": []
  }
 ],
 "metadata": {
  "kernelspec": {
   "display_name": "Python 3",
   "language": "python",
   "name": "python3"
  },
  "language_info": {
   "codemirror_mode": {
    "name": "ipython",
    "version": 3
   },
   "file_extension": ".py",
   "mimetype": "text/x-python",
   "name": "python",
   "nbconvert_exporter": "python",
   "pygments_lexer": "ipython3",
   "version": "3.9.1"
  }
 },
 "nbformat": 4,
 "nbformat_minor": 5
}
